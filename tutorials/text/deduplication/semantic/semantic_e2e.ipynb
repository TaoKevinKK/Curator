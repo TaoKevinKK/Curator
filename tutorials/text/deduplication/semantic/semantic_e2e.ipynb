{
 "cells": [
  {
   "cell_type": "markdown",
   "id": "1f8ffd0e",
   "metadata": {},
   "source": [
    "# End-to-end Semantic Deduplication on Text Data\n",
    "\n",
    "GPU accelerated implementation of [SemDeDup: Data-efficient learning at web-scale through semantic deduplication](https://arxiv.org/abs/2303.09540)  \n",
    "\n",
    "The tutorial here shows how to run Semantic Duplication on text data by executing a single workflow which does the following:\n",
    "\n",
    "1. Read original dataset\n",
    "2. Run embedding generation \n",
    "3. Use K-Means to cluster the embeddings\n",
    "4. Compute pairwise similarity inside each of the clusters\n",
    "5. Identify duplicates based on `eps` provided (and `ranking_strategy`)\n",
    "6. Remove duplicates from the original dataset\n",
    "\n",
    "We also allow users to also run these steps independently, which can be seen in the step by step tutorial in the same directory as this tutorial.\n"
   ]
  },
  {
   "cell_type": "code",
   "execution_count": null,
   "id": "58c0cc09",
   "metadata": {},
   "outputs": [],
   "source": [
    "import os\n",
    "\n",
    "# Silence Curator logs via Loguru\n",
    "os.environ[\"LOGURU_LEVEL\"] = \"ERROR\"\n",
    "\n",
    "import pandas as pd\n",
    "import pyarrow.parquet as pq\n",
    "\n",
    "input_path = os.path.abspath(\"./input\")\n",
    "semantic_out_dir = os.path.abspath(\"./output/e2e\")\n",
    "output_path = os.path.join(semantic_out_dir, \"output\")\n",
    "cache_path = os.path.join(semantic_out_dir, \"cache\")\n",
    "input_filetype = (\n",
    "    \"parquet\"  # this can be either of jsonl or parquet (you'll need to change how input data is generated)\n",
    ")\n",
    "output_filetype = \"parquet\"  # this can be either of jsonl or parquet"
   ]
  },
  {
   "cell_type": "markdown",
   "id": "ca4fbbbc",
   "metadata": {},
   "source": [
    "## Generate Input Data\n",
    "\n",
    "We generate input data if we don't have files in the path above\n",
    " - We load the [TinyStories](https://huggingface.co/datasets/roneneldan/TinyStories) dataset (just the train partition) which has 2,119,719 rows\n",
    " - We split into shards such that no shard has more than 10,000 rows\n",
    " - We create a new ID column which is UUID\n",
    " - We write out ~212 files"
   ]
  },
  {
   "cell_type": "code",
   "execution_count": 2,
   "id": "7f43245f",
   "metadata": {},
   "outputs": [],
   "source": [
    "from nemo_curator.utils.file_utils import get_all_file_paths_under\n",
    "\n",
    "if len(get_all_file_paths_under(input_path)) == 0:\n",
    "    import os\n",
    "    import uuid\n",
    "\n",
    "    import numpy as np\n",
    "    from datasets import load_dataset\n",
    "\n",
    "    input_df = load_dataset(\"roneneldan/TinyStories\", split=\"train\").to_pandas()\n",
    "    num_rows_per_file = 10_000\n",
    "\n",
    "    os.makedirs(input_path, exist_ok=True)\n",
    "\n",
    "    for i, start_idx in enumerate(range(0, len(input_df), num_rows_per_file)):\n",
    "        end_idx = min(len(input_df), start_idx + num_rows_per_file)\n",
    "        subset_df = input_df.iloc[start_idx:end_idx].copy()\n",
    "        subset_df[\"id\"] = [str(uuid.uuid4()) for _ in range(len(subset_df))]\n",
    "        subset_df.to_parquet(os.path.join(input_path, f\"part_{i}.parquet\"), index=False)\n",
    "\n",
    "    print(f\"Created {len(os.listdir(input_path))} files\")"
   ]
  },
  {
   "cell_type": "markdown",
   "id": "9fd4cadb",
   "metadata": {},
   "source": [
    "## Running as a Single Stage (End-to-End)\n",
    "\n",
    "\n",
    "### Performance Notes\n",
    "Set `id_generator=True` if you want to remove duplicates from large datasets (i.e. when `perform_removal=True`).\n",
    "\n",
    "- The ID Generator gives each row a unique increasing integer ID, based on the order files are read.\n",
    "- When we find duplicates, we save these integer IDs in sorted files with multiple row groups.\n",
    "- During removal, reading the same files will give the same integer IDs, using the min/max ID values, we can find all corresponding duplicates.\n",
    "- This makes finding and removing duplicates much faster."
   ]
  },
  {
   "cell_type": "code",
   "execution_count": null,
   "id": "11448dfb",
   "metadata": {},
   "outputs": [],
   "source": [
    "from nemo_curator.stages.deduplication.semantic import RankingStrategy\n",
    "from nemo_curator.stages.text.deduplication.semantic import TextSemanticDeduplicationWorkflow\n",
    "\n",
    "workflow = TextSemanticDeduplicationWorkflow(\n",
    "    input_path=input_path,\n",
    "    output_path=output_path,\n",
    "    cache_path=cache_path,\n",
    "    perform_removal=True,\n",
    "    # Embedding generation parameters\n",
    "    text_field=\"text\",\n",
    "    model_identifier=\"sentence-transformers/all-MiniLM-L6-v2\",\n",
    "    embedding_max_seq_length=512,\n",
    "    embedding_max_chars=None,\n",
    "    embedding_pooling=\"mean_pooling\",\n",
    "    embedding_model_inference_batch_size=256,\n",
    "    # Semantic deduplication parameters\n",
    "    n_clusters=100,  # this number can be much higher when the data is large\n",
    "    # For large scale data removal we should use CURATOR_DEDUP_ID_STR\n",
    "    id_field=\"id\",\n",
    "    eps=0.01,\n",
    "    # K-Means clustering parameters\n",
    "    ranking_strategy=RankingStrategy(metadata_cols=[\"cosine_dist_to_cent\"], ascending=True),\n",
    "    pairwise_batch_size=1024,\n",
    "    # ID generator parameters\n",
    "    # For large scale data removal we should set use_id_generator to True\n",
    "    use_id_generator=False,\n",
    "    id_generator_state_file=None,\n",
    "    # I/O parameters\n",
    "    input_filetype=input_filetype,\n",
    "    input_files_per_partition=1,\n",
    "    output_filetype=output_filetype,\n",
    "    verbose=True,\n",
    "    clear_output=True,\n",
    ")"
   ]
  },
  {
   "cell_type": "code",
   "execution_count": null,
   "id": "7672bd73",
   "metadata": {},
   "outputs": [
    {
     "name": "stderr",
     "output_type": "stream",
     "text": [
      "2025-09-17 14:51:14,215\tINFO worker.py:1630 -- Using address 127.0.1.1:6379 set in the environment variable RAY_ADDRESS\n",
      "2025-09-17 14:51:14,218\tINFO worker.py:1771 -- Connecting to existing Ray cluster at address: 127.0.1.1:6379...\n"
     ]
    },
    {
     "name": "stdout",
     "output_type": "stream",
     "text": [
      "2025-09-17 14:51:15,316\tINFO usage_lib.py:447 -- Usage stats collection is disabled.\n",
      "2025-09-17 14:51:15,316\tINFO scripts.py:913 -- \u001b[37mLocal node IP\u001b[39m: \u001b[1m127.0.1.1\u001b[22m\n"
     ]
    },
    {
     "name": "stderr",
     "output_type": "stream",
     "text": [
      "2025-09-17 14:51:18,326\tINFO worker.py:1942 -- Connected to Ray cluster. View the dashboard at \u001b[1m\u001b[32mhttp://127.0.0.1:8265 \u001b[39m\u001b[22m\n"
     ]
    },
    {
     "name": "stdout",
     "output_type": "stream",
     "text": [
      "2025-09-17 14:51:18,160\tSUCC scripts.py:949 -- \u001b[32m--------------------\u001b[39m\n",
      "2025-09-17 14:51:18,160\tSUCC scripts.py:950 -- \u001b[32mRay runtime started.\u001b[39m\n",
      "2025-09-17 14:51:18,160\tSUCC scripts.py:951 -- \u001b[32m--------------------\u001b[39m\n",
      "2025-09-17 14:51:18,160\tINFO scripts.py:953 -- \u001b[36mNext steps\u001b[39m\n",
      "2025-09-17 14:51:18,160\tINFO scripts.py:956 -- To add another node to this Ray cluster, run\n",
      "2025-09-17 14:51:18,160\tINFO scripts.py:959 -- \u001b[1m  ray start --address='127.0.1.1:6379'\u001b[22m\n",
      "2025-09-17 14:51:18,160\tINFO scripts.py:968 -- To connect to this Ray cluster:\n",
      "2025-09-17 14:51:18,160\tINFO scripts.py:970 -- \u001b[35mimport\u001b[39m\u001b[26m ray\n",
      "2025-09-17 14:51:18,160\tINFO scripts.py:971 -- ray\u001b[35m.\u001b[39m\u001b[26minit(_node_ip_address\u001b[35m=\u001b[39m\u001b[26m\u001b[33m'127.0.1.1'\u001b[39m\u001b[26m)\n",
      "2025-09-17 14:51:18,160\tINFO scripts.py:983 -- To submit a Ray job using the Ray Jobs CLI:\n",
      "2025-09-17 14:51:18,160\tINFO scripts.py:984 -- \u001b[1m  RAY_API_SERVER_ADDRESS='http://127.0.0.1:8265' ray job submit --working-dir . -- python my_script.py\u001b[22m\n",
      "2025-09-17 14:51:18,160\tINFO scripts.py:993 -- See https://docs.ray.io/en/latest/cluster/running-applications/job-submission/index.html \n",
      "2025-09-17 14:51:18,160\tINFO scripts.py:997 -- for more information on submitting Ray jobs to the Ray cluster.\n",
      "2025-09-17 14:51:18,160\tINFO scripts.py:1002 -- To terminate the Ray runtime, run\n",
      "2025-09-17 14:51:18,160\tINFO scripts.py:1003 -- \u001b[1m  ray stop\u001b[22m\n",
      "2025-09-17 14:51:18,160\tINFO scripts.py:1006 -- To view the status of the cluster, use\n",
      "2025-09-17 14:51:18,160\tINFO scripts.py:1007 --   \u001b[1mray status\u001b[22m\u001b[26m\n",
      "2025-09-17 14:51:18,160\tINFO scripts.py:1011 -- To monitor and debug Ray, view the dashboard at \n",
      "2025-09-17 14:51:18,160\tINFO scripts.py:1012 --   \u001b[1m127.0.0.1:8265\u001b[22m\u001b[26m\n",
      "2025-09-17 14:51:18,161\tINFO scripts.py:1019 -- \u001b[4mIf connection to the dashboard fails, check your firewall settings and network configuration.\u001b[24m\n",
      "2025-09-17 14:51:18,161\tINFO scripts.py:1123 -- \u001b[36m\u001b[1m--block\u001b[22m\u001b[39m\n",
      "2025-09-17 14:51:18,161\tINFO scripts.py:1124 -- This command will now block forever until terminated by a signal.\n",
      "2025-09-17 14:51:18,161\tINFO scripts.py:1127 -- Running subprocesses are monitored and a message will be printed if any of them terminate unexpectedly. Subprocesses exit with SIGTERM will be treated as graceful, thus NOT reported.\n"
     ]
    },
    {
     "name": "stderr",
     "output_type": "stream",
     "text": [
      "2025-09-17 14:51:19,400\tINFO worker.py:1630 -- Using address 127.0.1.1:6379 set in the environment variable RAY_ADDRESS\n",
      "2025-09-17 14:51:19,401\tINFO worker.py:1771 -- Connecting to existing Ray cluster at address: 127.0.1.1:6379...\n",
      "2025-09-17 14:51:19,401\tINFO worker.py:1789 -- Calling ray.init() again after it has already been called.\n",
      "Fetching 30 files: 100%|██████████| 30/30 [00:00<00:00, 8616.66it/s]\n",
      "Fetching 30 files: 100%|██████████| 30/30 [00:00<00:00, 20223.26it/s]\n",
      "2025-09-17 14:54:34,118\tINFO worker.py:1630 -- Using address 127.0.1.1:6379 set in the environment variable RAY_ADDRESS\n",
      "2025-09-17 14:54:34,120\tINFO worker.py:1771 -- Connecting to existing Ray cluster at address: 127.0.1.1:6379...\n",
      "2025-09-17 14:54:34,129\tINFO worker.py:1942 -- Connected to Ray cluster. View the dashboard at \u001b[1m\u001b[32mhttp://127.0.0.1:8265 \u001b[39m\u001b[22m\n"
     ]
    },
    {
     "name": "stdout",
     "output_type": "stream",
     "text": [
      "\u001b[36m(KMeansReadFitWriteStage pid=1184855)\u001b[0m 203412096\n",
      "\u001b[36m(KMeansReadFitWriteStage pid=1184857)\u001b[0m 203520000\n",
      "\u001b[36m(KMeansReadFitWriteStage pid=1184856)\u001b[0m 203520000\n",
      "\u001b[36m(KMeansReadFitWriteStage pid=1184858)\u001b[0m 203520000\n"
     ]
    },
    {
     "name": "stderr",
     "output_type": "stream",
     "text": [
      "2025-09-17 14:55:08,160\tINFO worker.py:1630 -- Using address 127.0.1.1:6379 set in the environment variable RAY_ADDRESS\n",
      "2025-09-17 14:55:08,161\tINFO worker.py:1771 -- Connecting to existing Ray cluster at address: 127.0.1.1:6379...\n",
      "2025-09-17 14:55:08,168\tINFO worker.py:1942 -- Connected to Ray cluster. View the dashboard at \u001b[1m\u001b[32mhttp://127.0.0.1:8265 \u001b[39m\u001b[22m\n",
      "2025-09-17 14:55:08,183\tINFO worker.py:1630 -- Using address 127.0.1.1:6379 set in the environment variable RAY_ADDRESS\n",
      "2025-09-17 14:55:08,185\tINFO worker.py:1771 -- Connecting to existing Ray cluster at address: 127.0.1.1:6379...\n",
      "2025-09-17 14:55:08,185\tINFO worker.py:1789 -- Calling ray.init() again after it has already been called.\n",
      "2025-09-17 14:55:36,596\tINFO worker.py:1630 -- Using address 127.0.1.1:6379 set in the environment variable RAY_ADDRESS\n",
      "2025-09-17 14:55:36,598\tINFO worker.py:1771 -- Connecting to existing Ray cluster at address: 127.0.1.1:6379...\n",
      "2025-09-17 14:55:36,607\tINFO worker.py:1942 -- Connected to Ray cluster. View the dashboard at \u001b[1m\u001b[32mhttp://127.0.0.1:8265 \u001b[39m\u001b[22m\n",
      "2025-09-17 14:55:36,623\tINFO worker.py:1630 -- Using address 127.0.1.1:6379 set in the environment variable RAY_ADDRESS\n",
      "2025-09-17 14:55:36,625\tINFO worker.py:1771 -- Connecting to existing Ray cluster at address: 127.0.1.1:6379...\n",
      "2025-09-17 14:55:36,625\tINFO worker.py:1789 -- Calling ray.init() again after it has already been called.\n"
     ]
    }
   ],
   "source": [
    "from nemo_curator.core.client import RayClient\n",
    "\n",
    "# Number of GPUs should be roughly 2x the memory of the embeddings\n",
    "client = RayClient(num_cpus=64, num_gpus=4)\n",
    "client.start()\n",
    "try:\n",
    "    workflow.run()\n",
    "finally:\n",
    "    client.stop()"
   ]
  },
  {
   "cell_type": "markdown",
   "id": "0cb61451",
   "metadata": {},
   "source": [
    "### Looking at Intermediate Results and Output"
   ]
  },
  {
   "cell_type": "markdown",
   "id": "adb343b3",
   "metadata": {},
   "source": [
    "#### 1. Embeddings Results\n",
    "\n",
    "1. `id` : The ID field from our original dataset. \n",
    "    - For all subsequent steps this is assumed to be the  `id_field`.\n",
    "    - If you had set `use_id_generator` to `True` then instead of this you would see the `_curator_dedup_id` specified. \n",
    "        - The ID in that field is generated using our `IdGenerator` which assigns integer IDs to each row in the input data that later is used for removal. \n",
    "2. `embeddings` : The embedding generated by the model we used above."
   ]
  },
  {
   "cell_type": "code",
   "execution_count": 5,
   "id": "ef31ee41",
   "metadata": {},
   "outputs": [
    {
     "data": {
      "text/html": [
       "<div>\n",
       "<style scoped>\n",
       "    .dataframe tbody tr th:only-of-type {\n",
       "        vertical-align: middle;\n",
       "    }\n",
       "\n",
       "    .dataframe tbody tr th {\n",
       "        vertical-align: top;\n",
       "    }\n",
       "\n",
       "    .dataframe thead th {\n",
       "        text-align: right;\n",
       "    }\n",
       "</style>\n",
       "<table border=\"1\" class=\"dataframe\">\n",
       "  <thead>\n",
       "    <tr style=\"text-align: right;\">\n",
       "      <th></th>\n",
       "      <th>id</th>\n",
       "      <th>embeddings</th>\n",
       "    </tr>\n",
       "  </thead>\n",
       "  <tbody>\n",
       "    <tr>\n",
       "      <th>0</th>\n",
       "      <td>d079fca9-d29b-4dbb-9ad1-21c667151bde</td>\n",
       "      <td>[-0.12394736707210541, 0.010744917206466198, 0...</td>\n",
       "    </tr>\n",
       "    <tr>\n",
       "      <th>1</th>\n",
       "      <td>d5bb9128-2e2b-4499-9898-46e2c2059ab2</td>\n",
       "      <td>[-0.07273813337087631, 0.06685175746679306, 0....</td>\n",
       "    </tr>\n",
       "    <tr>\n",
       "      <th>2</th>\n",
       "      <td>240d44a9-52aa-4197-a440-7d3aa88d8182</td>\n",
       "      <td>[-0.04823765903711319, 0.11327654868364334, -0...</td>\n",
       "    </tr>\n",
       "    <tr>\n",
       "      <th>3</th>\n",
       "      <td>690365e4-380b-4f63-9c75-4eb5fc5affa6</td>\n",
       "      <td>[-0.08059918135404587, 0.024182168766856194, -...</td>\n",
       "    </tr>\n",
       "    <tr>\n",
       "      <th>4</th>\n",
       "      <td>15a0dc0c-fd96-44b3-9d41-a42441a979b4</td>\n",
       "      <td>[-0.031761009246110916, 0.02613956294953823, 0...</td>\n",
       "    </tr>\n",
       "  </tbody>\n",
       "</table>\n",
       "</div>"
      ],
      "text/plain": [
       "                                     id  \\\n",
       "0  d079fca9-d29b-4dbb-9ad1-21c667151bde   \n",
       "1  d5bb9128-2e2b-4499-9898-46e2c2059ab2   \n",
       "2  240d44a9-52aa-4197-a440-7d3aa88d8182   \n",
       "3  690365e4-380b-4f63-9c75-4eb5fc5affa6   \n",
       "4  15a0dc0c-fd96-44b3-9d41-a42441a979b4   \n",
       "\n",
       "                                          embeddings  \n",
       "0  [-0.12394736707210541, 0.010744917206466198, 0...  \n",
       "1  [-0.07273813337087631, 0.06685175746679306, 0....  \n",
       "2  [-0.04823765903711319, 0.11327654868364334, -0...  \n",
       "3  [-0.08059918135404587, 0.024182168766856194, -...  \n",
       "4  [-0.031761009246110916, 0.02613956294953823, 0...  "
      ]
     },
     "execution_count": 5,
     "metadata": {},
     "output_type": "execute_result"
    }
   ],
   "source": [
    "embeddings_path = os.path.join(cache_path, \"embeddings\")\n",
    "\n",
    "pd.read_parquet(os.path.join(embeddings_path, os.listdir(embeddings_path)[0])).head()"
   ]
  },
  {
   "cell_type": "markdown",
   "id": "bd5057fe",
   "metadata": {},
   "source": [
    "#### 2. K-Means Results\n",
    "\n",
    "1. `id` : The IDs of the rows that belong to the cluster.\n",
    "2. `embeddings` : These are later used for pairwise similarity.\n",
    "3. `l2_dist_to_cent` / `cosine_dist_to_cent` : This represents how far (l2 distance or cosine distance) a sample is from our cluster's centroid.\n",
    "    - These fields help us define how we want to prioritize ranking within our cluster. See `RankingStrategy`\n",
    "    - If we had other `metadata_fields` provided they would be used here instead.\n"
   ]
  },
  {
   "cell_type": "code",
   "execution_count": 6,
   "id": "02c7c9ab",
   "metadata": {},
   "outputs": [
    {
     "data": {
      "text/html": [
       "<div>\n",
       "<style scoped>\n",
       "    .dataframe tbody tr th:only-of-type {\n",
       "        vertical-align: middle;\n",
       "    }\n",
       "\n",
       "    .dataframe tbody tr th {\n",
       "        vertical-align: top;\n",
       "    }\n",
       "\n",
       "    .dataframe thead th {\n",
       "        text-align: right;\n",
       "    }\n",
       "</style>\n",
       "<table border=\"1\" class=\"dataframe\">\n",
       "  <thead>\n",
       "    <tr style=\"text-align: right;\">\n",
       "      <th></th>\n",
       "      <th>id</th>\n",
       "      <th>embeddings</th>\n",
       "      <th>l2_dist_to_cent</th>\n",
       "      <th>cosine_dist_to_cent</th>\n",
       "    </tr>\n",
       "  </thead>\n",
       "  <tbody>\n",
       "    <tr>\n",
       "      <th>0</th>\n",
       "      <td>9b4feddc-4d51-43fb-aeaa-18024a32d60c</td>\n",
       "      <td>[-0.051341612, 0.023956891, 0.0818636, 0.01455...</td>\n",
       "      <td>0.564844</td>\n",
       "      <td>0.174446</td>\n",
       "    </tr>\n",
       "    <tr>\n",
       "      <th>1</th>\n",
       "      <td>988c12f1-4adc-4123-a1ea-872818bed68b</td>\n",
       "      <td>[-0.029556809, 0.040268984, 0.13631389, -0.001...</td>\n",
       "      <td>0.677120</td>\n",
       "      <td>0.261456</td>\n",
       "    </tr>\n",
       "    <tr>\n",
       "      <th>2</th>\n",
       "      <td>e8e4342d-2bed-4626-bd9e-222d0e347567</td>\n",
       "      <td>[-0.08078232, 0.032830615, 0.10732673, -0.0177...</td>\n",
       "      <td>0.545969</td>\n",
       "      <td>0.161363</td>\n",
       "    </tr>\n",
       "    <tr>\n",
       "      <th>3</th>\n",
       "      <td>cffd02df-29d3-4d4d-9d19-332527f372d8</td>\n",
       "      <td>[-0.016866645, 0.03228915, 0.021343842, 0.0527...</td>\n",
       "      <td>0.599426</td>\n",
       "      <td>0.199569</td>\n",
       "    </tr>\n",
       "    <tr>\n",
       "      <th>4</th>\n",
       "      <td>f3dd6532-0abf-4ad9-bca7-514d78085a8f</td>\n",
       "      <td>[-0.04058464, 0.023736855, 0.09525293, 0.05758...</td>\n",
       "      <td>0.553145</td>\n",
       "      <td>0.166284</td>\n",
       "    </tr>\n",
       "  </tbody>\n",
       "</table>\n",
       "</div>"
      ],
      "text/plain": [
       "                                     id  \\\n",
       "0  9b4feddc-4d51-43fb-aeaa-18024a32d60c   \n",
       "1  988c12f1-4adc-4123-a1ea-872818bed68b   \n",
       "2  e8e4342d-2bed-4626-bd9e-222d0e347567   \n",
       "3  cffd02df-29d3-4d4d-9d19-332527f372d8   \n",
       "4  f3dd6532-0abf-4ad9-bca7-514d78085a8f   \n",
       "\n",
       "                                          embeddings  l2_dist_to_cent  \\\n",
       "0  [-0.051341612, 0.023956891, 0.0818636, 0.01455...         0.564844   \n",
       "1  [-0.029556809, 0.040268984, 0.13631389, -0.001...         0.677120   \n",
       "2  [-0.08078232, 0.032830615, 0.10732673, -0.0177...         0.545969   \n",
       "3  [-0.016866645, 0.03228915, 0.021343842, 0.0527...         0.599426   \n",
       "4  [-0.04058464, 0.023736855, 0.09525293, 0.05758...         0.553145   \n",
       "\n",
       "   cosine_dist_to_cent  \n",
       "0             0.174446  \n",
       "1             0.261456  \n",
       "2             0.161363  \n",
       "3             0.199569  \n",
       "4             0.166284  "
      ]
     },
     "execution_count": 6,
     "metadata": {},
     "output_type": "execute_result"
    }
   ],
   "source": [
    "kmeans_path_first_centroid = os.path.join(cache_path, \"semantic_dedup\", \"kmeans_results\", \"centroid=0\")\n",
    "\n",
    "pd.read_parquet(os.path.join(kmeans_path_first_centroid, os.listdir(kmeans_path_first_centroid)[0])).head()"
   ]
  },
  {
   "cell_type": "markdown",
   "id": "27aaac0b",
   "metadata": {},
   "source": [
    "#### 3. Pairwise Similarity Result\n",
    "\n",
    "1. `id` : The identifier for the duplicate row.\n",
    "2. `max_id` : The closest pair for the duplicate row.\n",
    "3. `cosine_sim_score` : The cosine similarity between the two points.\n"
   ]
  },
  {
   "cell_type": "code",
   "execution_count": 7,
   "id": "4f741101",
   "metadata": {},
   "outputs": [
    {
     "data": {
      "text/html": [
       "<div>\n",
       "<style scoped>\n",
       "    .dataframe tbody tr th:only-of-type {\n",
       "        vertical-align: middle;\n",
       "    }\n",
       "\n",
       "    .dataframe tbody tr th {\n",
       "        vertical-align: top;\n",
       "    }\n",
       "\n",
       "    .dataframe thead th {\n",
       "        text-align: right;\n",
       "    }\n",
       "</style>\n",
       "<table border=\"1\" class=\"dataframe\">\n",
       "  <thead>\n",
       "    <tr style=\"text-align: right;\">\n",
       "      <th></th>\n",
       "      <th>id</th>\n",
       "      <th>max_id</th>\n",
       "      <th>cosine_sim_score</th>\n",
       "    </tr>\n",
       "  </thead>\n",
       "  <tbody>\n",
       "    <tr>\n",
       "      <th>0</th>\n",
       "      <td>b6c8eb2e-bd73-4492-a927-f52d96c7a967</td>\n",
       "      <td>b6c8eb2e-bd73-4492-a927-f52d96c7a967</td>\n",
       "      <td>0.000000</td>\n",
       "    </tr>\n",
       "    <tr>\n",
       "      <th>1</th>\n",
       "      <td>e348775f-27bc-4ad2-b772-bd8d490c6af4</td>\n",
       "      <td>b6c8eb2e-bd73-4492-a927-f52d96c7a967</td>\n",
       "      <td>0.932138</td>\n",
       "    </tr>\n",
       "    <tr>\n",
       "      <th>2</th>\n",
       "      <td>9989bc6c-ed4c-43a1-9819-5c2cb137f736</td>\n",
       "      <td>b6c8eb2e-bd73-4492-a927-f52d96c7a967</td>\n",
       "      <td>0.936246</td>\n",
       "    </tr>\n",
       "    <tr>\n",
       "      <th>3</th>\n",
       "      <td>70314669-7849-4f71-aabb-6af954e80c42</td>\n",
       "      <td>b6c8eb2e-bd73-4492-a927-f52d96c7a967</td>\n",
       "      <td>0.915550</td>\n",
       "    </tr>\n",
       "    <tr>\n",
       "      <th>4</th>\n",
       "      <td>dd2ec313-2904-43dd-a522-8d643b492a05</td>\n",
       "      <td>b6c8eb2e-bd73-4492-a927-f52d96c7a967</td>\n",
       "      <td>0.928383</td>\n",
       "    </tr>\n",
       "  </tbody>\n",
       "</table>\n",
       "</div>"
      ],
      "text/plain": [
       "                                     id                                max_id  \\\n",
       "0  b6c8eb2e-bd73-4492-a927-f52d96c7a967  b6c8eb2e-bd73-4492-a927-f52d96c7a967   \n",
       "1  e348775f-27bc-4ad2-b772-bd8d490c6af4  b6c8eb2e-bd73-4492-a927-f52d96c7a967   \n",
       "2  9989bc6c-ed4c-43a1-9819-5c2cb137f736  b6c8eb2e-bd73-4492-a927-f52d96c7a967   \n",
       "3  70314669-7849-4f71-aabb-6af954e80c42  b6c8eb2e-bd73-4492-a927-f52d96c7a967   \n",
       "4  dd2ec313-2904-43dd-a522-8d643b492a05  b6c8eb2e-bd73-4492-a927-f52d96c7a967   \n",
       "\n",
       "   cosine_sim_score  \n",
       "0          0.000000  \n",
       "1          0.932138  \n",
       "2          0.936246  \n",
       "3          0.915550  \n",
       "4          0.928383  "
      ]
     },
     "execution_count": 7,
     "metadata": {},
     "output_type": "execute_result"
    }
   ],
   "source": [
    "pairwise_path = os.path.join(cache_path, \"semantic_dedup\", \"pairwise_results\")\n",
    "\n",
    "pd.read_parquet(os.path.join(pairwise_path, \"cluster_0.parquet\")).head()"
   ]
  },
  {
   "cell_type": "markdown",
   "id": "5ee21190",
   "metadata": {},
   "source": [
    "#### Looking at Similar Results\n",
    "\n",
    "We can look at two rows and see why the embedding model thinks they're similar.\n",
    "We can use this to guide our decision about the `eps` parameter.\n",
    "\n",
    "We use two `9989bc6c-ed4c-43a1-9819-5c2cb137f736` and\t`b6c8eb2e-bd73-4492-a927-f52d96c7a967` which have cosine similarity of\t`0.936246`.\n",
    "\n",
    "And we notice that the theme of the data is very similar. \n",
    "\n",
    "**NOTE: If you run with `use_id_generator=True` (which is important to perform removal at large scale) you will see the IDs which were generated internally, and there won't be a way to perform this step, as there is no simple way of getting the old mappings of IDs to the new mappings of IDs.**"
   ]
  },
  {
   "cell_type": "code",
   "execution_count": 9,
   "id": "d1abf127",
   "metadata": {},
   "outputs": [
    {
     "name": "stdout",
     "output_type": "stream",
     "text": [
      "[{'id': '9989bc6c-ed4c-43a1-9819-5c2cb137f736',\n",
      "  'text': 'Once upon a time, there was a little girl named Lily. She loved to '\n",
      "          'play outside in the lovely sunshine. One day, she went to the park '\n",
      "          'with her mommy. They walked on the ground and saw many flowers.\\n'\n",
      "          '\\n'\n",
      "          'Lily saw a boy playing with a ball. She wanted to play too, but she '\n",
      "          'was shy. Her mommy told her to ask the boy if she could play. Lily '\n",
      "          'was nervous, but she asked the boy if she could play with him. The '\n",
      "          'boy just shrugged and said \"okay\".\\n'\n",
      "          '\\n'\n",
      "          'Lily and the boy played together and had lots of fun. They kicked '\n",
      "          'the ball and ran around. When it was time to go home, Lily said '\n",
      "          \"goodbye to the boy. As they walked away, Lily's mommy told her that \"\n",
      "          'it was good she asked to play. Lily smiled and felt happy. She knew '\n",
      "          'she would always remember that lovely day at the park.'},\n",
      " {'id': 'b6c8eb2e-bd73-4492-a927-f52d96c7a967',\n",
      "  'text': 'Once upon a time, there was a little girl named Lily. She loved to '\n",
      "          'play with her toys all day long, but sometimes she felt lonely. One '\n",
      "          'day, her mommy said, \"Lily, let\\'s go to the park and play with '\n",
      "          'other kids.\" Lily was so happy and excited!\\n'\n",
      "          '\\n'\n",
      "          'At the park, Lily saw many kids playing, but they all seemed so '\n",
      "          \"distant from her. She didn't know how to join in. Suddenly, a kind \"\n",
      "          'boy came up to her and said, \"Hi, do you want to play with us?\" '\n",
      "          'Lily smiled and said, \"Yes, please!\" The boy provided her with a '\n",
      "          'ball, and they all started to play together.\\n'\n",
      "          '\\n'\n",
      "          \"Lily had so much fun playing with her new friends. She didn't want \"\n",
      "          'the time to end, but eventually, it was time to go home. Lily said '\n",
      "          'goodbye to her new friends, feeling happy and grateful for the fun '\n",
      "          'time they had together.'}]\n"
     ]
    }
   ],
   "source": [
    "from pprint import pprint\n",
    "\n",
    "pprint(\n",
    "    pd.read_parquet(\n",
    "        input_path,\n",
    "        filters=[(\"id\", \"in\", {\"9989bc6c-ed4c-43a1-9819-5c2cb137f736\", \"b6c8eb2e-bd73-4492-a927-f52d96c7a967\"})],\n",
    "    ).to_dict(orient=\"records\")\n",
    ")"
   ]
  },
  {
   "cell_type": "markdown",
   "id": "0c446a67",
   "metadata": {},
   "source": [
    "##### Visualizing Similarity in the Dataset\n",
    "\n",
    "\n",
    "Depending on our dataset size we can read through all of the files and plot how much data is similar to one another.\n",
    "Here we show how to read file by file and then perform a reduce. \n",
    "\n",
    "In our dataset we can see that ~20% of our data has cosine similarity of 0.9 or more.\n",
    "\n",
    "Based on the analysis here and above (where we see similar text fields) we can decide what our `eps` should be. \n",
    "\n",
    "Note that in this tutorial we pre-ran with `eps` set and `perform_removal` as `True`.\n",
    "\n",
    "Ideally, users do this analysis, inspect the duplicates, come up with an `eps`, run a pipeline that includes the `IdentifyDuplicates` stage, and finally perform removal."
   ]
  },
  {
   "cell_type": "code",
   "execution_count": 10,
   "id": "a548c4fa",
   "metadata": {},
   "outputs": [],
   "source": [
    "from collections import Counter\n",
    "from functools import reduce\n",
    "\n",
    "import numpy as np\n",
    "\n",
    "\n",
    "def get_bins(df: pd.DataFrame, num_bins: int = 1_000) -> dict[float, int]:\n",
    "    bins = np.linspace(0, 1.01, num_bins)\n",
    "\n",
    "    return Counter(\n",
    "        pd.cut(df[\"cosine_sim_score\"], bins=bins, labels=bins[1:], retbins=False, include_lowest=True, right=True)\n",
    "        .value_counts()\n",
    "        .to_dict()\n",
    "    )\n",
    "\n",
    "\n",
    "similarity_across_dataset = reduce(\n",
    "    lambda x, y: x + y,\n",
    "    [\n",
    "        get_bins(pd.read_parquet(os.path.join(pairwise_path, f), columns=[\"cosine_sim_score\"]), num_bins=1000)\n",
    "        for f in os.listdir(pairwise_path)\n",
    "    ],\n",
    ")"
   ]
  },
  {
   "cell_type": "code",
   "execution_count": 11,
   "id": "2db46cf5",
   "metadata": {},
   "outputs": [
    {
     "data": {
      "image/png": "[encoded data removed]",
      "text/plain": [
       "<Figure size 640x480 with 1 Axes>"
      ]
     },
     "metadata": {},
     "output_type": "display_data"
    }
   ],
   "source": [
    "import matplotlib.pyplot as plt\n",
    "\n",
    "plt.ecdf(x=similarity_across_dataset.keys(), weights=similarity_across_dataset.values())\n",
    "plt.xticks(np.linspace(0, 1, 11))\n",
    "plt.yticks(np.linspace(0, 1, 11))\n",
    "plt.xlabel(\"Cosine Similarity\")\n",
    "plt.ylabel(\"Ratio of dataset below the similarity score\")\n",
    "plt.grid()\n",
    "plt.show()"
   ]
  },
  {
   "cell_type": "markdown",
   "id": "dd43865d",
   "metadata": {},
   "source": [
    "#### Looking at Duplicates\n",
    "\n",
    "- `id` : This is a list of all IDs that are above our similarity threshold `eps`."
   ]
  },
  {
   "cell_type": "code",
   "execution_count": 12,
   "id": "2578b143",
   "metadata": {},
   "outputs": [
    {
     "data": {
      "text/html": [
       "<div>\n",
       "<style scoped>\n",
       "    .dataframe tbody tr th:only-of-type {\n",
       "        vertical-align: middle;\n",
       "    }\n",
       "\n",
       "    .dataframe tbody tr th {\n",
       "        vertical-align: top;\n",
       "    }\n",
       "\n",
       "    .dataframe thead th {\n",
       "        text-align: right;\n",
       "    }\n",
       "</style>\n",
       "<table border=\"1\" class=\"dataframe\">\n",
       "  <thead>\n",
       "    <tr style=\"text-align: right;\">\n",
       "      <th></th>\n",
       "      <th>id</th>\n",
       "    </tr>\n",
       "  </thead>\n",
       "  <tbody>\n",
       "    <tr>\n",
       "      <th>0</th>\n",
       "      <td>00031354-7148-4513-af11-4c93c73db7ba</td>\n",
       "    </tr>\n",
       "    <tr>\n",
       "      <th>1</th>\n",
       "      <td>0003de98-af44-4181-8ff5-9c8d86be8b96</td>\n",
       "    </tr>\n",
       "    <tr>\n",
       "      <th>2</th>\n",
       "      <td>0004215a-4560-4f23-9fbb-7e63b7a78be9</td>\n",
       "    </tr>\n",
       "    <tr>\n",
       "      <th>3</th>\n",
       "      <td>00065e09-b164-48ac-80fc-e4fd7a760c47</td>\n",
       "    </tr>\n",
       "    <tr>\n",
       "      <th>4</th>\n",
       "      <td>000d15ff-1f2e-4f21-974f-e2e9d4d96578</td>\n",
       "    </tr>\n",
       "  </tbody>\n",
       "</table>\n",
       "</div>"
      ],
      "text/plain": [
       "                                     id\n",
       "0  00031354-7148-4513-af11-4c93c73db7ba\n",
       "1  0003de98-af44-4181-8ff5-9c8d86be8b96\n",
       "2  0004215a-4560-4f23-9fbb-7e63b7a78be9\n",
       "3  00065e09-b164-48ac-80fc-e4fd7a760c47\n",
       "4  000d15ff-1f2e-4f21-974f-e2e9d4d96578"
      ]
     },
     "execution_count": 12,
     "metadata": {},
     "output_type": "execute_result"
    }
   ],
   "source": [
    "duplicates_path = os.path.join(output_path, \"duplicates\")\n",
    "\n",
    "pd.read_parquet(os.path.join(duplicates_path, os.listdir(duplicates_path)[0])).head()"
   ]
  },
  {
   "cell_type": "code",
   "execution_count": 13,
   "id": "018bf976",
   "metadata": {},
   "outputs": [
    {
     "name": "stdout",
     "output_type": "stream",
     "text": [
      "We found 320,467 duplicates in the dataset\n"
     ]
    }
   ],
   "source": [
    "num_duplicates = sum(pq.read_metadata(os.path.join(duplicates_path, f)).num_rows for f in os.listdir(duplicates_path))\n",
    "print(f\"We found {num_duplicates:,} duplicates in the dataset\")"
   ]
  },
  {
   "cell_type": "markdown",
   "id": "98c21b65",
   "metadata": {},
   "source": [
    "#### Looking at the Deduplicated Dataset\n",
    "\n",
    "Here we see all the original columns. \n",
    "\n",
    "We can control the schema of this by specifying the `output_fields` argument in the workflow definition.\n",
    "\n",
    "If you had set `use_id_generator=True` then you'd see `_curator_dedup_id` here as well."
   ]
  },
  {
   "cell_type": "code",
   "execution_count": 14,
   "id": "ee288d0c",
   "metadata": {},
   "outputs": [
    {
     "data": {
      "text/html": [
       "<div>\n",
       "<style scoped>\n",
       "    .dataframe tbody tr th:only-of-type {\n",
       "        vertical-align: middle;\n",
       "    }\n",
       "\n",
       "    .dataframe tbody tr th {\n",
       "        vertical-align: top;\n",
       "    }\n",
       "\n",
       "    .dataframe thead th {\n",
       "        text-align: right;\n",
       "    }\n",
       "</style>\n",
       "<table border=\"1\" class=\"dataframe\">\n",
       "  <thead>\n",
       "    <tr style=\"text-align: right;\">\n",
       "      <th></th>\n",
       "      <th>text</th>\n",
       "      <th>id</th>\n",
       "    </tr>\n",
       "  </thead>\n",
       "  <tbody>\n",
       "    <tr>\n",
       "      <th>0</th>\n",
       "      <td>Once upon a time, there was a big dog named Ma...</td>\n",
       "      <td>ad9623c1-e820-417b-a894-8ac327a63781</td>\n",
       "    </tr>\n",
       "    <tr>\n",
       "      <th>1</th>\n",
       "      <td>Once upon a time, there was a shy little girl ...</td>\n",
       "      <td>d2857534-6995-4c30-b06f-bb842f683601</td>\n",
       "    </tr>\n",
       "    <tr>\n",
       "      <th>2</th>\n",
       "      <td>Once upon a time, there was a little boy named...</td>\n",
       "      <td>0fe524d8-ca21-4c04-b344-9af8015f52e1</td>\n",
       "    </tr>\n",
       "    <tr>\n",
       "      <th>3</th>\n",
       "      <td>Once upon a time, there was a little girl name...</td>\n",
       "      <td>87222f54-fc70-4f93-825f-5f0e59c4e070</td>\n",
       "    </tr>\n",
       "    <tr>\n",
       "      <th>4</th>\n",
       "      <td>Once upon a time, there was a little girl name...</td>\n",
       "      <td>1d239f39-f5da-4573-bb52-9bb37e928a13</td>\n",
       "    </tr>\n",
       "  </tbody>\n",
       "</table>\n",
       "</div>"
      ],
      "text/plain": [
       "                                                text  \\\n",
       "0  Once upon a time, there was a big dog named Ma...   \n",
       "1  Once upon a time, there was a shy little girl ...   \n",
       "2  Once upon a time, there was a little boy named...   \n",
       "3  Once upon a time, there was a little girl name...   \n",
       "4  Once upon a time, there was a little girl name...   \n",
       "\n",
       "                                     id  \n",
       "0  ad9623c1-e820-417b-a894-8ac327a63781  \n",
       "1  d2857534-6995-4c30-b06f-bb842f683601  \n",
       "2  0fe524d8-ca21-4c04-b344-9af8015f52e1  \n",
       "3  87222f54-fc70-4f93-825f-5f0e59c4e070  \n",
       "4  1d239f39-f5da-4573-bb52-9bb37e928a13  "
      ]
     },
     "execution_count": 14,
     "metadata": {},
     "output_type": "execute_result"
    }
   ],
   "source": [
    "deduplicated_path = os.path.join(output_path, \"deduplicated\")\n",
    "\n",
    "pd.read_parquet(os.path.join(deduplicated_path, os.listdir(deduplicated_path)[0])).head()"
   ]
  },
  {
   "cell_type": "code",
   "execution_count": 15,
   "id": "66cfca8f",
   "metadata": {},
   "outputs": [
    {
     "name": "stdout",
     "output_type": "stream",
     "text": [
      "Our final dataset has 1,799,252 rows\n"
     ]
    }
   ],
   "source": [
    "num_deduplicated = sum(\n",
    "    pq.read_metadata(os.path.join(deduplicated_path, f)).num_rows for f in os.listdir(deduplicated_path)\n",
    ")\n",
    "print(f\"Our final dataset has {num_deduplicated:,} rows\")"
   ]
  },
  {
   "cell_type": "markdown",
   "id": "92db9f62",
   "metadata": {},
   "source": [
    "### Conclusion\n",
    "\n",
    "We see we were able to remove ~320k duplicates from our dataset of 2.1 million rows using a single workflow."
   ]
  }
 ],
 "metadata": {
  "kernelspec": {
   "display_name": "Python 3",
   "language": "python",
   "name": "python3"
  },
  "language_info": {
   "codemirror_mode": {
    "name": "ipython",
    "version": 3
   },
   "file_extension": ".py",
   "mimetype": "text/x-python",
   "name": "python",
   "nbconvert_exporter": "python",
   "pygments_lexer": "ipython3",
   "version": "3.12.11"
  }
 },
 "nbformat": 4,
 "nbformat_minor": 5
}
