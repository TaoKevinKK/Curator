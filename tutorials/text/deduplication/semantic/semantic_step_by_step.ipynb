{
 "cells": [
  {
   "cell_type": "markdown",
   "id": "54c8fe16",
   "metadata": {},
   "source": [
    "# Step by Step Semantic Deduplication on Text Data\n",
    "\n",
    "GPU accelerated implementation of [SemDeDup: Data-efficient learning at web-scale through semantic deduplication](https://arxiv.org/abs/2303.09540)  \n",
    "\n",
    "The tutorial here shows how to run Semantic Duplication on text data by executing three workflows sequentially. \n",
    "\n",
    "We also use an ID Generator to show how it works when running it separately.\n",
    "\n",
    "1. Create ID generator.\n",
    "2. Running embedding generation\n",
    "3. Running K-Means + pairwise (without duplicate identification)\n",
    "4. Run duplicate identification\n",
    "5. Run removal\n",
    "\n",
    "We also allow users to run these steps as a single workflow, which can be seen in the end to end tutorial in the same directory as this tutorial."
   ]
  },
  {
   "cell_type": "code",
   "execution_count": null,
   "id": "8a2c97d2",
   "metadata": {},
   "outputs": [],
   "source": [
    "import os\n",
    "\n",
    "# Silence Curator logs via Loguru\n",
    "os.environ[\"LOGURU_LEVEL\"] = \"ERROR\"\n",
    "\n",
    "import pandas as pd\n",
    "\n",
    "input_path = os.path.abspath(\"./input\")\n",
    "semantic_out_dir = os.path.abspath(\"./output/step_by_step\")\n",
    "output_path = os.path.join(semantic_out_dir, \"output\")\n",
    "cache_path = os.path.join(semantic_out_dir, \"cache\")\n",
    "\n",
    "input_filetype = \"parquet\"  # this can be either of jsonl or parquet (you'll need to change how input data is generated and embedding generation reader to be jsonl)\n",
    "output_filetype = \"parquet\"  # this can be either of jsonl or parquet"
   ]
  },
  {
   "cell_type": "markdown",
   "id": "985f8a13",
   "metadata": {},
   "source": [
    "## Generate Input Data\n",
    "\n",
    "We generate input data if we don't have files in the path above\n",
    " - We load the [TinyStories](https://huggingface.co/datasets/roneneldan/TinyStories) dataset (just the train partition) which has 2,119,719 rows\n",
    " - We split into shards such that no shard has more than 10,000 rows\n",
    " - We create a new ID column which is UUID\n",
    " - We write out ~212 files"
   ]
  },
  {
   "cell_type": "code",
   "execution_count": 2,
   "id": "91a8ad78",
   "metadata": {},
   "outputs": [],
   "source": [
    "from nemo_curator.utils.file_utils import get_all_file_paths_under\n",
    "\n",
    "if len(get_all_file_paths_under(input_path)) == 0:\n",
    "    import os\n",
    "    import uuid\n",
    "\n",
    "    import numpy as np\n",
    "    from datasets import load_dataset\n",
    "\n",
    "    input_df = load_dataset(\"roneneldan/TinyStories\", split=\"train\").to_pandas()\n",
    "    num_rows_per_file = 10_000\n",
    "\n",
    "    os.makedirs(input_path, exist_ok=True)\n",
    "\n",
    "    for i, start_idx in enumerate(range(0, len(input_df), num_rows_per_file)):\n",
    "        end_idx = min(len(input_df), start_idx + num_rows_per_file)\n",
    "        subset_df = input_df.iloc[start_idx:end_idx].copy()\n",
    "        subset_df[\"id\"] = [str(uuid.uuid4()) for _ in range(len(subset_df))]\n",
    "        subset_df.to_parquet(os.path.join(input_path, f\"part_{i}.parquet\"), index=False)\n",
    "\n",
    "    print(f\"Created {len(os.listdir(input_path))} files\")"
   ]
  },
  {
   "cell_type": "markdown",
   "id": "9f9e2c0f",
   "metadata": {},
   "source": [
    "# Running Semantic Deduplication Workflow by Workflow\n",
    "\n",
    "Here we intentionally break it down into executing three workflows. \n",
    "\n",
    "We also use the ID Generator to show it works when running it separately.\n",
    "\n",
    "1. Create ID Generator.\n",
    "2. Running embedding generation\n",
    "3. Running K-Means + pairwise (without duplicate identification)\n",
    "4. Run duplicate identification\n",
    "5. Run removal\n",
    "\n",
    "Both steps 2 and 5 require the use of the ID Generator created in step 1.\n",
    "\n",
    "You might want to do this separately if\n",
    "1. You have a separate job that generates embeddings.\n",
    "2. You want to use different machine for different parts of the workflow. \n",
    "3. Your cluster limits how long a job can run for. \n",
    "\n"
   ]
  },
  {
   "cell_type": "code",
   "execution_count": null,
   "id": "9235be51",
   "metadata": {},
   "outputs": [],
   "source": [
    "from nemo_curator.core.client import RayClient\n",
    "\n",
    "# Number of GPUs should be roughly 2x the memory of the embeddings\n",
    "client = RayClient(num_cpus=64, num_gpus=4)\n",
    "client.start()"
   ]
  },
  {
   "cell_type": "markdown",
   "id": "edbbe35f",
   "metadata": {},
   "source": [
    "## Create ID Generator\n",
    "\n",
    "1. This creates a Ray Actor in the background.\n",
    "2. When we read our dataset now, this actor in the background is used to assign monotonically increasing integer IDs to each row. "
   ]
  },
  {
   "cell_type": "code",
   "execution_count": 4,
   "id": "57b8e36b",
   "metadata": {},
   "outputs": [
    {
     "name": "stderr",
     "output_type": "stream",
     "text": [
      "2025-09-16 13:44:04,277\tINFO worker.py:1630 -- Using address 127.0.1.1:6379 set in the environment variable RAY_ADDRESS\n",
      "2025-09-16 13:44:04,280\tINFO worker.py:1771 -- Connecting to existing Ray cluster at address: 127.0.1.1:6379...\n"
     ]
    },
    {
     "name": "stdout",
     "output_type": "stream",
     "text": [
      "2025-09-16 13:44:04,342\tINFO usage_lib.py:447 -- Usage stats collection is disabled.\n",
      "2025-09-16 13:44:04,343\tINFO scripts.py:913 -- \u001b[37mLocal node IP\u001b[39m: \u001b[1m127.0.1.1\u001b[22m\n",
      "2025-09-16 13:44:07,176\tSUCC scripts.py:949 -- \u001b[32m--------------------\u001b[39m\n",
      "2025-09-16 13:44:07,176\tSUCC scripts.py:950 -- \u001b[32mRay runtime started.\u001b[39m\n",
      "2025-09-16 13:44:07,176\tSUCC scripts.py:951 -- \u001b[32m--------------------\u001b[39m\n",
      "2025-09-16 13:44:07,176\tINFO scripts.py:953 -- \u001b[36mNext steps\u001b[39m\n",
      "2025-09-16 13:44:07,176\tINFO scripts.py:956 -- To add another node to this Ray cluster, run\n",
      "2025-09-16 13:44:07,176\tINFO scripts.py:959 -- \u001b[1m  ray start --address='127.0.1.1:6379'\u001b[22m\n",
      "2025-09-16 13:44:07,176\tINFO scripts.py:968 -- To connect to this Ray cluster:\n",
      "2025-09-16 13:44:07,176\tINFO scripts.py:970 -- \u001b[35mimport\u001b[39m\u001b[26m ray\n",
      "2025-09-16 13:44:07,176\tINFO scripts.py:971 -- ray\u001b[35m.\u001b[39m\u001b[26minit(_node_ip_address\u001b[35m=\u001b[39m\u001b[26m\u001b[33m'127.0.1.1'\u001b[39m\u001b[26m)\n",
      "2025-09-16 13:44:07,177\tINFO scripts.py:983 -- To submit a Ray job using the Ray Jobs CLI:\n",
      "2025-09-16 13:44:07,177\tINFO scripts.py:984 -- \u001b[1m  RAY_API_SERVER_ADDRESS='http://127.0.0.1:8265' ray job submit --working-dir . -- python my_script.py\u001b[22m\n",
      "2025-09-16 13:44:07,177\tINFO scripts.py:993 -- See https://docs.ray.io/en/latest/cluster/running-applications/job-submission/index.html \n",
      "2025-09-16 13:44:07,177\tINFO scripts.py:997 -- for more information on submitting Ray jobs to the Ray cluster.\n",
      "2025-09-16 13:44:07,177\tINFO scripts.py:1002 -- To terminate the Ray runtime, run\n",
      "2025-09-16 13:44:07,177\tINFO scripts.py:1003 -- \u001b[1m  ray stop\u001b[22m\n",
      "2025-09-16 13:44:07,177\tINFO scripts.py:1006 -- To view the status of the cluster, use\n",
      "2025-09-16 13:44:07,177\tINFO scripts.py:1007 --   \u001b[1mray status\u001b[22m\u001b[26m\n",
      "2025-09-16 13:44:07,177\tINFO scripts.py:1011 -- To monitor and debug Ray, view the dashboard at \n",
      "2025-09-16 13:44:07,177\tINFO scripts.py:1012 --   \u001b[1m127.0.0.1:8265\u001b[22m\u001b[26m\n",
      "2025-09-16 13:44:07,177\tINFO scripts.py:1019 -- \u001b[4mIf connection to the dashboard fails, check your firewall settings and network configuration.\u001b[24m\n",
      "2025-09-16 13:44:07,177\tINFO scripts.py:1123 -- \u001b[36m\u001b[1m--block\u001b[22m\u001b[39m\n",
      "2025-09-16 13:44:07,177\tINFO scripts.py:1124 -- This command will now block forever until terminated by a signal.\n",
      "2025-09-16 13:44:07,177\tINFO scripts.py:1127 -- Running subprocesses are monitored and a message will be printed if any of them terminate unexpectedly. Subprocesses exit with SIGTERM will be treated as graceful, thus NOT reported.\n"
     ]
    },
    {
     "name": "stderr",
     "output_type": "stream",
     "text": [
      "2025-09-16 13:44:07,377\tINFO worker.py:1942 -- Connected to Ray cluster. View the dashboard at \u001b[1m\u001b[32mhttp://127.0.0.1:8265 \u001b[39m\u001b[22m\n"
     ]
    }
   ],
   "source": [
    "from nemo_curator.stages.deduplication.id_generator import create_id_generator_actor\n",
    "\n",
    "create_id_generator_actor()"
   ]
  },
  {
   "cell_type": "markdown",
   "id": "0d24e9ed",
   "metadata": {},
   "source": [
    "## Run Embedding Generation\n",
    "\n",
    "1.  We output the embeddings as Parquet files so that we can read more smartly during our K-Means step. This is the recommended file format before you run K-Means.\n"
   ]
  },
  {
   "cell_type": "code",
   "execution_count": null,
   "id": "271b0a1e",
   "metadata": {},
   "outputs": [
    {
     "name": "stderr",
     "output_type": "stream",
     "text": [
      "2025-09-16 13:44:12,448\tINFO worker.py:1630 -- Using address 127.0.1.1:6379 set in the environment variable RAY_ADDRESS\n",
      "2025-09-16 13:44:12,451\tINFO worker.py:1771 -- Connecting to existing Ray cluster at address: 127.0.1.1:6379...\n",
      "2025-09-16 13:44:12,457\tINFO worker.py:1942 -- Connected to Ray cluster. View the dashboard at \u001b[1m\u001b[32mhttp://127.0.0.1:8265 \u001b[39m\u001b[22m\n",
      "2025-09-16 13:44:12,471\tINFO worker.py:1630 -- Using address 127.0.1.1:6379 set in the environment variable RAY_ADDRESS\n",
      "2025-09-16 13:44:12,473\tINFO worker.py:1771 -- Connecting to existing Ray cluster at address: 127.0.1.1:6379...\n",
      "2025-09-16 13:44:12,473\tINFO worker.py:1789 -- Calling ray.init() again after it has already been called.\n",
      "Fetching 30 files: 100%|██████████| 30/30 [00:00<00:00, 9597.95it/s]\n",
      "Fetching 30 files: 100%|██████████| 30/30 [00:00<00:00, 31215.36it/s]\n"
     ]
    }
   ],
   "source": [
    "from nemo_curator.pipeline import Pipeline\n",
    "from nemo_curator.stages.text.embedders import EmbeddingCreatorStage\n",
    "from nemo_curator.stages.text.io.reader import ParquetReader\n",
    "from nemo_curator.stages.text.io.writer import ParquetWriter\n",
    "\n",
    "embedding_output_path = os.path.join(cache_path, \"embeddings\")\n",
    "\n",
    "embedding_pipeline = Pipeline(\n",
    "    name=\"embedding_pipeline\",\n",
    "    stages=[\n",
    "        # We specify _generate_ids=True to use the ID generator we created in step 1.\n",
    "        ParquetReader(file_paths=input_path, files_per_partition=1, fields=[\"text\"], _generate_ids=True),\n",
    "        EmbeddingCreatorStage(\n",
    "            model_identifier=\"sentence-transformers/all-MiniLM-L6-v2\",\n",
    "            text_field=\"text\",\n",
    "            max_seq_length=None,\n",
    "            max_chars=None,\n",
    "            embedding_pooling=\"mean_pooling\",\n",
    "            model_inference_batch_size=256,\n",
    "        ),\n",
    "        # We specify the fields out so that we also don't end up writing the `text` field, or the intermediate `input_ids` and `attention_mask` fields which are no longer needed.\n",
    "        ParquetWriter(path=embedding_output_path, fields=[\"_curator_dedup_id\", \"embeddings\"]),\n",
    "    ],\n",
    ")\n",
    "\n",
    "embedding_out = embedding_pipeline.run()"
   ]
  },
  {
   "cell_type": "markdown",
   "id": "6f8044ba",
   "metadata": {},
   "source": [
    "### Save the ID Generator to disk and kill the actor"
   ]
  },
  {
   "cell_type": "code",
   "execution_count": null,
   "id": "24bc3d06",
   "metadata": {},
   "outputs": [
    {
     "name": "stderr",
     "output_type": "stream",
     "text": [
      "2025-09-16 13:48:10,787\tINFO worker.py:1630 -- Using address 127.0.1.1:6379 set in the environment variable RAY_ADDRESS\n",
      "2025-09-16 13:48:10,791\tINFO worker.py:1771 -- Connecting to existing Ray cluster at address: 127.0.1.1:6379...\n",
      "2025-09-16 13:48:10,800\tINFO worker.py:1942 -- Connected to Ray cluster. View the dashboard at \u001b[1m\u001b[32mhttp://127.0.0.1:8265 \u001b[39m\u001b[22m\n"
     ]
    },
    {
     "name": "stdout",
     "output_type": "stream",
     "text": [
      "\u001b[36m(KMeansReadFitWriteStage pid=2365182)\u001b[0m 203520000\n",
      "\u001b[36m(KMeansReadFitWriteStage pid=2365188)\u001b[0m 203520000\n",
      "\u001b[36m(KMeansReadFitWriteStage pid=2365179)\u001b[0m 203412096\n",
      "\u001b[36m(KMeansReadFitWriteStage pid=2365184)\u001b[0m 203520000\n"
     ]
    }
   ],
   "source": [
    "from nemo_curator.stages.deduplication.id_generator import kill_id_generator_actor, write_id_generator_to_disk\n",
    "\n",
    "id_generator_actor_path = os.path.join(output_path, \"semantic_id_generator.json\")\n",
    "write_id_generator_to_disk(id_generator_actor_path)\n",
    "kill_id_generator_actor()"
   ]
  },
  {
   "cell_type": "markdown",
   "id": "7a600100",
   "metadata": {},
   "source": [
    "#### Embeddings Results\n",
    "\n",
    "1. `_curator_dedup_id` : The ID field generated by our `IdGenerator` and `ParquetReader`, since in our `ParquetReader` we specified `_generate_ids=True`.\n",
    "2. `embeddings` : The embedding generated by the model we used above."
   ]
  },
  {
   "cell_type": "code",
   "execution_count": 7,
   "id": "736cd36a",
   "metadata": {},
   "outputs": [
    {
     "data": {
      "text/html": [
       "<div>\n",
       "<style scoped>\n",
       "    .dataframe tbody tr th:only-of-type {\n",
       "        vertical-align: middle;\n",
       "    }\n",
       "\n",
       "    .dataframe tbody tr th {\n",
       "        vertical-align: top;\n",
       "    }\n",
       "\n",
       "    .dataframe thead th {\n",
       "        text-align: right;\n",
       "    }\n",
       "</style>\n",
       "<table border=\"1\" class=\"dataframe\">\n",
       "  <thead>\n",
       "    <tr style=\"text-align: right;\">\n",
       "      <th></th>\n",
       "      <th>_curator_dedup_id</th>\n",
       "      <th>embeddings</th>\n",
       "    </tr>\n",
       "  </thead>\n",
       "  <tbody>\n",
       "    <tr>\n",
       "      <th>0</th>\n",
       "      <td>1949719</td>\n",
       "      <td>[-0.12394736707210541, 0.010744917206466198, 0...</td>\n",
       "    </tr>\n",
       "    <tr>\n",
       "      <th>1</th>\n",
       "      <td>1949720</td>\n",
       "      <td>[-0.07273813337087631, 0.06685175746679306, 0....</td>\n",
       "    </tr>\n",
       "    <tr>\n",
       "      <th>2</th>\n",
       "      <td>1949721</td>\n",
       "      <td>[-0.04823765903711319, 0.11327654868364334, -0...</td>\n",
       "    </tr>\n",
       "    <tr>\n",
       "      <th>3</th>\n",
       "      <td>1949722</td>\n",
       "      <td>[-0.08059918135404587, 0.024182168766856194, -...</td>\n",
       "    </tr>\n",
       "    <tr>\n",
       "      <th>4</th>\n",
       "      <td>1949723</td>\n",
       "      <td>[-0.031761009246110916, 0.02613956294953823, 0...</td>\n",
       "    </tr>\n",
       "  </tbody>\n",
       "</table>\n",
       "</div>"
      ],
      "text/plain": [
       "   _curator_dedup_id                                         embeddings\n",
       "0            1949719  [-0.12394736707210541, 0.010744917206466198, 0...\n",
       "1            1949720  [-0.07273813337087631, 0.06685175746679306, 0....\n",
       "2            1949721  [-0.04823765903711319, 0.11327654868364334, -0...\n",
       "3            1949722  [-0.08059918135404587, 0.024182168766856194, -...\n",
       "4            1949723  [-0.031761009246110916, 0.02613956294953823, 0..."
      ]
     },
     "execution_count": 7,
     "metadata": {},
     "output_type": "execute_result"
    }
   ],
   "source": [
    "embeddings_path = os.path.join(cache_path, \"embeddings\")\n",
    "\n",
    "pd.read_parquet(os.path.join(embeddings_path, os.listdir(embeddings_path)[0])).head()"
   ]
  },
  {
   "cell_type": "markdown",
   "id": "8bec854a",
   "metadata": {},
   "source": [
    "## Run Semantic Deduplication workflow (without specifying `eps`)\n",
    "\n",
    "1. We intentionally don't specify `eps` so that we can show how to run `IdentifyDuplicates` as a separate stage."
   ]
  },
  {
   "cell_type": "code",
   "execution_count": null,
   "id": "e069a223",
   "metadata": {},
   "outputs": [
    {
     "name": "stderr",
     "output_type": "stream",
     "text": [
      "2025-09-16 13:48:14,425\tINFO worker.py:1630 -- Using address 127.0.1.1:6379 set in the environment variable RAY_ADDRESS\n",
      "2025-09-16 13:48:14,426\tINFO worker.py:1771 -- Connecting to existing Ray cluster at address: 127.0.1.1:6379...\n",
      "2025-09-16 13:48:14,427\tINFO worker.py:1789 -- Calling ray.init() again after it has already been called.\n",
      "2025-09-16 13:48:40,029\tINFO worker.py:1630 -- Using address 127.0.1.1:6379 set in the environment variable RAY_ADDRESS\n",
      "2025-09-16 13:48:40,031\tINFO worker.py:1771 -- Connecting to existing Ray cluster at address: 127.0.1.1:6379...\n",
      "2025-09-16 13:48:40,039\tINFO worker.py:1942 -- Connected to Ray cluster. View the dashboard at \u001b[1m\u001b[32mhttp://127.0.0.1:8265 \u001b[39m\u001b[22m\n",
      "2025-09-16 13:48:40,054\tINFO worker.py:1630 -- Using address 127.0.1.1:6379 set in the environment variable RAY_ADDRESS\n",
      "2025-09-16 13:48:40,056\tINFO worker.py:1771 -- Connecting to existing Ray cluster at address: 127.0.1.1:6379...\n",
      "2025-09-16 13:48:40,056\tINFO worker.py:1789 -- Calling ray.init() again after it has already been called.\n"
     ]
    }
   ],
   "source": [
    "from nemo_curator.stages.deduplication.semantic import RankingStrategy, SemanticDeduplicationWorkflow\n",
    "\n",
    "semantic_workflow_path = os.path.join(cache_path, \"semantic_dedup\")\n",
    "\n",
    "workflow = SemanticDeduplicationWorkflow(\n",
    "    input_path=embedding_output_path,\n",
    "    output_path=semantic_workflow_path,\n",
    "    n_clusters=100,\n",
    "    # Since we use Id Generator in the embedding generation step, we need to specify the ID field as `_curator_dedup_id`\n",
    "    id_field=\"_curator_dedup_id\",\n",
    "    embedding_field=\"embeddings\",\n",
    "    ranking_strategy=RankingStrategy(metadata_cols=[\"cosine_dist_to_cent\"], ascending=True),\n",
    "    # if eps is specified then it'll also run IdentifyDuplicates stage\n",
    "    eps=None,\n",
    ")\n",
    "semantic_out = workflow.run()"
   ]
  },
  {
   "cell_type": "markdown",
   "id": "a8743b9f",
   "metadata": {},
   "source": [
    "#### K-Means Results\n",
    "\n",
    "1. `_curator_dedup_id` : The IDs of the rows that belong to the cluster.\n",
    "2. `embeddings` : These are later used for pairwise similarity.\n",
    "3. `l2_dist_to_cent` / `cosine_dist_to_cent` : This represents how far (l2 distance or cosine distance) a sample is from our cluster's centroid.\n",
    "    - These fields help us define how we want to prioritize ranking within our cluster. See `RankingStrategy`\n",
    "    - If we had other `metadata_fields` provided they would be used here instead.\n"
   ]
  },
  {
   "cell_type": "code",
   "execution_count": 9,
   "id": "f7527710",
   "metadata": {},
   "outputs": [
    {
     "data": {
      "text/html": [
       "<div>\n",
       "<style scoped>\n",
       "    .dataframe tbody tr th:only-of-type {\n",
       "        vertical-align: middle;\n",
       "    }\n",
       "\n",
       "    .dataframe tbody tr th {\n",
       "        vertical-align: top;\n",
       "    }\n",
       "\n",
       "    .dataframe thead th {\n",
       "        text-align: right;\n",
       "    }\n",
       "</style>\n",
       "<table border=\"1\" class=\"dataframe\">\n",
       "  <thead>\n",
       "    <tr style=\"text-align: right;\">\n",
       "      <th></th>\n",
       "      <th>_curator_dedup_id</th>\n",
       "      <th>embeddings</th>\n",
       "      <th>l2_dist_to_cent</th>\n",
       "      <th>cosine_dist_to_cent</th>\n",
       "    </tr>\n",
       "  </thead>\n",
       "  <tbody>\n",
       "    <tr>\n",
       "      <th>0</th>\n",
       "      <td>280260</td>\n",
       "      <td>[-0.051341612, 0.023956891, 0.0818636, 0.01455...</td>\n",
       "      <td>0.564816</td>\n",
       "      <td>0.174425</td>\n",
       "    </tr>\n",
       "    <tr>\n",
       "      <th>1</th>\n",
       "      <td>280366</td>\n",
       "      <td>[-0.029556809, 0.040268984, 0.13631389, -0.001...</td>\n",
       "      <td>0.677134</td>\n",
       "      <td>0.261470</td>\n",
       "    </tr>\n",
       "    <tr>\n",
       "      <th>2</th>\n",
       "      <td>280795</td>\n",
       "      <td>[-0.08078232, 0.032830615, 0.10732673, -0.0177...</td>\n",
       "      <td>0.545988</td>\n",
       "      <td>0.161375</td>\n",
       "    </tr>\n",
       "    <tr>\n",
       "      <th>3</th>\n",
       "      <td>280814</td>\n",
       "      <td>[-0.016866645, 0.03228915, 0.021343842, 0.0527...</td>\n",
       "      <td>0.599459</td>\n",
       "      <td>0.199594</td>\n",
       "    </tr>\n",
       "    <tr>\n",
       "      <th>4</th>\n",
       "      <td>281333</td>\n",
       "      <td>[-0.04058464, 0.023736855, 0.09525293, 0.05758...</td>\n",
       "      <td>0.553146</td>\n",
       "      <td>0.166285</td>\n",
       "    </tr>\n",
       "  </tbody>\n",
       "</table>\n",
       "</div>"
      ],
      "text/plain": [
       "   _curator_dedup_id                                         embeddings  \\\n",
       "0             280260  [-0.051341612, 0.023956891, 0.0818636, 0.01455...   \n",
       "1             280366  [-0.029556809, 0.040268984, 0.13631389, -0.001...   \n",
       "2             280795  [-0.08078232, 0.032830615, 0.10732673, -0.0177...   \n",
       "3             280814  [-0.016866645, 0.03228915, 0.021343842, 0.0527...   \n",
       "4             281333  [-0.04058464, 0.023736855, 0.09525293, 0.05758...   \n",
       "\n",
       "   l2_dist_to_cent  cosine_dist_to_cent  \n",
       "0         0.564816             0.174425  \n",
       "1         0.677134             0.261470  \n",
       "2         0.545988             0.161375  \n",
       "3         0.599459             0.199594  \n",
       "4         0.553146             0.166285  "
      ]
     },
     "execution_count": 9,
     "metadata": {},
     "output_type": "execute_result"
    }
   ],
   "source": [
    "kmeans_path_first_centroid = os.path.join(semantic_workflow_path, \"kmeans_results\", \"centroid=0\")\n",
    "\n",
    "pd.read_parquet(os.path.join(kmeans_path_first_centroid, os.listdir(kmeans_path_first_centroid)[0])).head()"
   ]
  },
  {
   "cell_type": "markdown",
   "id": "9a8e14ef",
   "metadata": {},
   "source": [
    "#### Pairwise Similarity Result\n",
    "\n",
    "1. `id` : The identifier for the duplicate row.\n",
    "2. `max_id` : The closest pair for the duplicate row.\n",
    "3. `cosine_sim_score` : The cosine similarity between the two points.\n"
   ]
  },
  {
   "cell_type": "code",
   "execution_count": 10,
   "id": "db2cf58f",
   "metadata": {},
   "outputs": [
    {
     "data": {
      "text/html": [
       "<div>\n",
       "<style scoped>\n",
       "    .dataframe tbody tr th:only-of-type {\n",
       "        vertical-align: middle;\n",
       "    }\n",
       "\n",
       "    .dataframe tbody tr th {\n",
       "        vertical-align: top;\n",
       "    }\n",
       "\n",
       "    .dataframe thead th {\n",
       "        text-align: right;\n",
       "    }\n",
       "</style>\n",
       "<table border=\"1\" class=\"dataframe\">\n",
       "  <thead>\n",
       "    <tr style=\"text-align: right;\">\n",
       "      <th></th>\n",
       "      <th>id</th>\n",
       "      <th>max_id</th>\n",
       "      <th>cosine_sim_score</th>\n",
       "    </tr>\n",
       "  </thead>\n",
       "  <tbody>\n",
       "    <tr>\n",
       "      <th>0</th>\n",
       "      <td>1806089</td>\n",
       "      <td>1806089</td>\n",
       "      <td>0.000000</td>\n",
       "    </tr>\n",
       "    <tr>\n",
       "      <th>1</th>\n",
       "      <td>1339989</td>\n",
       "      <td>1806089</td>\n",
       "      <td>0.932138</td>\n",
       "    </tr>\n",
       "    <tr>\n",
       "      <th>2</th>\n",
       "      <td>699085</td>\n",
       "      <td>1806089</td>\n",
       "      <td>0.936246</td>\n",
       "    </tr>\n",
       "    <tr>\n",
       "      <th>3</th>\n",
       "      <td>1220322</td>\n",
       "      <td>1806089</td>\n",
       "      <td>0.915550</td>\n",
       "    </tr>\n",
       "    <tr>\n",
       "      <th>4</th>\n",
       "      <td>1948996</td>\n",
       "      <td>1806089</td>\n",
       "      <td>0.928383</td>\n",
       "    </tr>\n",
       "  </tbody>\n",
       "</table>\n",
       "</div>"
      ],
      "text/plain": [
       "        id   max_id  cosine_sim_score\n",
       "0  1806089  1806089          0.000000\n",
       "1  1339989  1806089          0.932138\n",
       "2   699085  1806089          0.936246\n",
       "3  1220322  1806089          0.915550\n",
       "4  1948996  1806089          0.928383"
      ]
     },
     "execution_count": 10,
     "metadata": {},
     "output_type": "execute_result"
    }
   ],
   "source": [
    "pairwise_path = os.path.join(cache_path, \"semantic_dedup\", \"pairwise_results\")\n",
    "\n",
    "pd.read_parquet(os.path.join(pairwise_path, \"cluster_0.parquet\")).head()"
   ]
  },
  {
   "cell_type": "markdown",
   "id": "1dec1875",
   "metadata": {},
   "source": [
    "#### Investigate Results of Semantic Workflow\n",
    "\n",
    "Depending on our dataset size we can read through all of the files and plot how much data is similar to one another.\n",
    "Here we show how to read file by file and then perform a reduce. \n",
    "\n",
    "Based on the analysis here we can decide what our `eps` parameter should be, proceed to identify the duplicates, and finally perform removal"
   ]
  },
  {
   "cell_type": "code",
   "execution_count": 11,
   "id": "32d68935",
   "metadata": {},
   "outputs": [],
   "source": [
    "from collections import Counter\n",
    "from functools import reduce\n",
    "\n",
    "import numpy as np\n",
    "\n",
    "pairwise_path = os.path.join(semantic_workflow_path, \"pairwise_results\")\n",
    "\n",
    "\n",
    "def get_bins(df: pd.DataFrame, num_bins: int = 1_000) -> dict[float, int]:\n",
    "    bins = np.linspace(0, 1.01, num_bins)\n",
    "\n",
    "    return Counter(\n",
    "        pd.cut(df[\"cosine_sim_score\"], bins=bins, labels=bins[1:], retbins=False, include_lowest=True, right=True)\n",
    "        .value_counts()\n",
    "        .to_dict()\n",
    "    )\n",
    "\n",
    "\n",
    "similarity_across_dataset = reduce(\n",
    "    lambda x, y: x + y,\n",
    "    [\n",
    "        get_bins(pd.read_parquet(os.path.join(pairwise_path, f), columns=[\"cosine_sim_score\"]), num_bins=1000)\n",
    "        for f in os.listdir(pairwise_path)\n",
    "    ],\n",
    ")"
   ]
  },
  {
   "cell_type": "markdown",
   "id": "0cc077ee",
   "metadata": {},
   "source": [
    "Looking at the graph below we see 20% of our dataset is above 0.9 cosine similarity. So for the purpose of this tutorial we can use 0.1 (1 - 0.9) as our `eps` parameter."
   ]
  },
  {
   "cell_type": "code",
   "execution_count": 12,
   "id": "fdf55383",
   "metadata": {},
   "outputs": [
    {
     "data": {
      "image/png": "[encoded data removed]",
      "text/plain": [
       "<Figure size 640x480 with 1 Axes>"
      ]
     },
     "metadata": {},
     "output_type": "display_data"
    }
   ],
   "source": [
    "import matplotlib.pyplot as plt\n",
    "\n",
    "plt.ecdf(x=similarity_across_dataset.keys(), weights=similarity_across_dataset.values())\n",
    "plt.xticks(np.linspace(0, 1, 11))\n",
    "plt.yticks(np.linspace(0, 1, 11))\n",
    "plt.xlabel(\"Cosine Similarity\")\n",
    "plt.ylabel(\"Ratio of dataset below the similarity score\")\n",
    "plt.grid()\n",
    "plt.show()"
   ]
  },
  {
   "cell_type": "markdown",
   "id": "90340b55",
   "metadata": {},
   "source": [
    "## Identify Duplicates\n",
    "\n",
    "We will create a simple pipeline that now identifies duplicates and writes them out."
   ]
  },
  {
   "cell_type": "code",
   "execution_count": 13,
   "id": "53e5b2ae",
   "metadata": {},
   "outputs": [
    {
     "name": "stderr",
     "output_type": "stream",
     "text": [
      "2025-09-16 13:49:55,497\tINFO worker.py:1630 -- Using address 127.0.1.1:6379 set in the environment variable RAY_ADDRESS\n",
      "2025-09-16 13:49:55,499\tINFO worker.py:1771 -- Connecting to existing Ray cluster at address: 127.0.1.1:6379...\n",
      "2025-09-16 13:49:55,506\tINFO worker.py:1942 -- Connected to Ray cluster. View the dashboard at \u001b[1m\u001b[32mhttp://127.0.0.1:8265 \u001b[39m\u001b[22m\n",
      "2025-09-16 13:49:55,520\tINFO worker.py:1630 -- Using address 127.0.1.1:6379 set in the environment variable RAY_ADDRESS\n",
      "2025-09-16 13:49:55,522\tINFO worker.py:1771 -- Connecting to existing Ray cluster at address: 127.0.1.1:6379...\n",
      "2025-09-16 13:49:55,522\tINFO worker.py:1789 -- Calling ray.init() again after it has already been called.\n"
     ]
    }
   ],
   "source": [
    "from nemo_curator.pipeline import Pipeline\n",
    "from nemo_curator.stages.deduplication.semantic import IdentifyDuplicatesStage\n",
    "from nemo_curator.stages.file_partitioning import FilePartitioningStage\n",
    "from nemo_curator.utils.file_utils import create_or_overwrite_dir\n",
    "\n",
    "duplicates_output_path = os.path.join(output_path, \"duplicates\")\n",
    "create_or_overwrite_dir(duplicates_output_path)\n",
    "\n",
    "identify_duplicates_pipeline = Pipeline(\n",
    "    name=\"identify_duplicates_pipeline\",\n",
    "    stages=[\n",
    "        FilePartitioningStage(\n",
    "            file_paths=pairwise_path,\n",
    "            # we select files per partition to be 1, because IdentifyDuplicates has default batch_size of 10\n",
    "            # this means it'll process 10 files at a time\n",
    "            files_per_partition=1,\n",
    "        ),\n",
    "        IdentifyDuplicatesStage(\n",
    "            output_path=duplicates_output_path,\n",
    "            eps=0.1,\n",
    "        ),\n",
    "    ],\n",
    ")\n",
    "\n",
    "identify_duplicates_out = identify_duplicates_pipeline.run()"
   ]
  },
  {
   "cell_type": "markdown",
   "id": "b47ce381",
   "metadata": {},
   "source": [
    "#### Looking at Duplicates\n",
    "\n",
    "- `id` : This is a list of all IDs that are above our similarity threshold `eps`."
   ]
  },
  {
   "cell_type": "code",
   "execution_count": 14,
   "id": "865a9273",
   "metadata": {},
   "outputs": [
    {
     "data": {
      "text/html": [
       "<div>\n",
       "<style scoped>\n",
       "    .dataframe tbody tr th:only-of-type {\n",
       "        vertical-align: middle;\n",
       "    }\n",
       "\n",
       "    .dataframe tbody tr th {\n",
       "        vertical-align: top;\n",
       "    }\n",
       "\n",
       "    .dataframe thead th {\n",
       "        text-align: right;\n",
       "    }\n",
       "</style>\n",
       "<table border=\"1\" class=\"dataframe\">\n",
       "  <thead>\n",
       "    <tr style=\"text-align: right;\">\n",
       "      <th></th>\n",
       "      <th>id</th>\n",
       "    </tr>\n",
       "  </thead>\n",
       "  <tbody>\n",
       "    <tr>\n",
       "      <th>0</th>\n",
       "      <td>115</td>\n",
       "    </tr>\n",
       "    <tr>\n",
       "      <th>1</th>\n",
       "      <td>268</td>\n",
       "    </tr>\n",
       "    <tr>\n",
       "      <th>2</th>\n",
       "      <td>273</td>\n",
       "    </tr>\n",
       "    <tr>\n",
       "      <th>3</th>\n",
       "      <td>280</td>\n",
       "    </tr>\n",
       "    <tr>\n",
       "      <th>4</th>\n",
       "      <td>323</td>\n",
       "    </tr>\n",
       "  </tbody>\n",
       "</table>\n",
       "</div>"
      ],
      "text/plain": [
       "    id\n",
       "0  115\n",
       "1  268\n",
       "2  273\n",
       "3  280\n",
       "4  323"
      ]
     },
     "execution_count": 14,
     "metadata": {},
     "output_type": "execute_result"
    }
   ],
   "source": [
    "pd.read_parquet(os.path.join(duplicates_output_path, os.listdir(duplicates_output_path)[0])).head()"
   ]
  },
  {
   "cell_type": "markdown",
   "id": "88140f70",
   "metadata": {},
   "source": [
    "## Removing Duplicates\n",
    "\n",
    "We offer a simple `TextDuplicatesRemovalWorkflow` that can remove duplicates from a given input dataset and list of duplicates to remove. \n",
    "\n",
    "### Notes\n",
    "1. When running the removal workflow, we must specify the same input configuration as we did when we \"generated IDs\".\n",
    "2. In this tutorial that happened at the embedding generation step.\n",
    "3. Therefore it's required that we match the same arguments of filepath, filetype and `files_per_partition`/`blocksize`.\n",
    "4. This is required because IDs are generated by hashing the filenames in each task. If the filenames (and their partitioning) do not match exactly between steps, the ID Generator will not be able to find the correct IDs and will error out.\n",
    "\n",
    "### Performance\n",
    "If you notice OOMs during this stage, you can try using `RayDataActor`.\n",
    "\n",
    "\n",
    "### How `TextDuplicatesRemovalWorkflow` works\n",
    "1. It starts the ID Generator using `create_id_generator(filepath=...)`\n",
    "1. It runs a pipeline that does [`ParquetReader`, `TextDuplicatesRemovalStage`, `ParquetWriter`] (assuming input/output filetypes are Parquet)\n",
    "1. It kills the ID Generator using `kill_id_generator_actor`\n"
   ]
  },
  {
   "cell_type": "code",
   "execution_count": null,
   "id": "185aa65d",
   "metadata": {},
   "outputs": [
    {
     "name": "stderr",
     "output_type": "stream",
     "text": [
      "2025-09-16 13:50:29,842\tINFO worker.py:1630 -- Using address 127.0.1.1:6379 set in the environment variable RAY_ADDRESS\n",
      "2025-09-16 13:50:29,845\tINFO worker.py:1771 -- Connecting to existing Ray cluster at address: 127.0.1.1:6379...\n",
      "2025-09-16 13:50:29,852\tINFO worker.py:1942 -- Connected to Ray cluster. View the dashboard at \u001b[1m\u001b[32mhttp://127.0.0.1:8265 \u001b[39m\u001b[22m\n",
      "2025-09-16 13:50:30,361\tINFO worker.py:1630 -- Using address 127.0.1.1:6379 set in the environment variable RAY_ADDRESS\n",
      "2025-09-16 13:50:30,364\tINFO worker.py:1771 -- Connecting to existing Ray cluster at address: 127.0.1.1:6379...\n",
      "2025-09-16 13:50:30,371\tINFO worker.py:1942 -- Connected to Ray cluster. View the dashboard at \u001b[1m\u001b[32mhttp://127.0.0.1:8265 \u001b[39m\u001b[22m\n",
      "2025-09-16 13:50:30,385\tINFO worker.py:1630 -- Using address 127.0.1.1:6379 set in the environment variable RAY_ADDRESS\n",
      "2025-09-16 13:50:30,387\tINFO worker.py:1771 -- Connecting to existing Ray cluster at address: 127.0.1.1:6379...\n",
      "2025-09-16 13:50:30,387\tINFO worker.py:1789 -- Calling ray.init() again after it has already been called.\n",
      "2025-09-16 13:50:44,900\tINFO worker.py:1630 -- Using address 127.0.1.1:6379 set in the environment variable RAY_ADDRESS\n",
      "2025-09-16 13:50:44,902\tINFO worker.py:1771 -- Connecting to existing Ray cluster at address: 127.0.1.1:6379...\n",
      "2025-09-16 13:50:44,909\tINFO worker.py:1942 -- Connected to Ray cluster. View the dashboard at \u001b[1m\u001b[32mhttp://127.0.0.1:8265 \u001b[39m\u001b[22m\n"
     ]
    }
   ],
   "source": [
    "from nemo_curator.stages.text.deduplication.removal_workflow import TextDuplicatesRemovalWorkflow\n",
    "\n",
    "duplicates_output_path = os.path.join(output_path, \"duplicates\")\n",
    "\n",
    "# The workflow starts from a new IdGenerator from the persisted id generator\n",
    "# This helps it assign the same IDs back to the same file\n",
    "# It is important the we read again the same dataset using the same file path and files_per_partition / blocksize arguments\n",
    "id_generator_path = os.path.join(output_path, \"semantic_id_generator.json\")\n",
    "\n",
    "removal_workflow = TextDuplicatesRemovalWorkflow(\n",
    "    input_path=input_path,\n",
    "    ids_to_remove_path=duplicates_output_path,\n",
    "    output_path=os.path.join(output_path, \"deduplicated\"),\n",
    "    # input args\n",
    "    input_filetype=input_filetype,\n",
    "    input_fields=[\"text\"],\n",
    "    input_files_per_partition=1,\n",
    "    # output args\n",
    "    output_filetype=output_filetype,\n",
    "    output_fields=[\"text\", \"_curator_dedup_id\"],\n",
    "    # id args\n",
    "    ids_to_remove_duplicate_id_field=\"id\",  # this is the field that contains the IDs of the duplicates\n",
    "    id_generator_path=id_generator_path,\n",
    ")\n",
    "\n",
    "removal_out = removal_workflow.run()"
   ]
  },
  {
   "cell_type": "markdown",
   "id": "a850d116",
   "metadata": {},
   "source": [
    "### Looking at the Deduplicated Dataset"
   ]
  },
  {
   "cell_type": "code",
   "execution_count": 17,
   "id": "e4ebf5c6",
   "metadata": {},
   "outputs": [
    {
     "data": {
      "text/html": [
       "<div>\n",
       "<style scoped>\n",
       "    .dataframe tbody tr th:only-of-type {\n",
       "        vertical-align: middle;\n",
       "    }\n",
       "\n",
       "    .dataframe tbody tr th {\n",
       "        vertical-align: top;\n",
       "    }\n",
       "\n",
       "    .dataframe thead th {\n",
       "        text-align: right;\n",
       "    }\n",
       "</style>\n",
       "<table border=\"1\" class=\"dataframe\">\n",
       "  <thead>\n",
       "    <tr style=\"text-align: right;\">\n",
       "      <th></th>\n",
       "      <th>text</th>\n",
       "      <th>_curator_dedup_id</th>\n",
       "    </tr>\n",
       "  </thead>\n",
       "  <tbody>\n",
       "    <tr>\n",
       "      <th>0</th>\n",
       "      <td>Once upon a time, there was a big dog named Ma...</td>\n",
       "      <td>1150000</td>\n",
       "    </tr>\n",
       "    <tr>\n",
       "      <th>1</th>\n",
       "      <td>Once upon a time, there was a shy little girl ...</td>\n",
       "      <td>1150001</td>\n",
       "    </tr>\n",
       "    <tr>\n",
       "      <th>2</th>\n",
       "      <td>Once upon a time, there was a little boy named...</td>\n",
       "      <td>1150002</td>\n",
       "    </tr>\n",
       "    <tr>\n",
       "      <th>5</th>\n",
       "      <td>Once upon a time, there was a little bear who ...</td>\n",
       "      <td>1150005</td>\n",
       "    </tr>\n",
       "    <tr>\n",
       "      <th>6</th>\n",
       "      <td>Once upon a time, there was a little girl name...</td>\n",
       "      <td>1150006</td>\n",
       "    </tr>\n",
       "  </tbody>\n",
       "</table>\n",
       "</div>"
      ],
      "text/plain": [
       "                                                text  _curator_dedup_id\n",
       "0  Once upon a time, there was a big dog named Ma...            1150000\n",
       "1  Once upon a time, there was a shy little girl ...            1150001\n",
       "2  Once upon a time, there was a little boy named...            1150002\n",
       "5  Once upon a time, there was a little bear who ...            1150005\n",
       "6  Once upon a time, there was a little girl name...            1150006"
      ]
     },
     "execution_count": 17,
     "metadata": {},
     "output_type": "execute_result"
    }
   ],
   "source": [
    "deduplicated_path = os.path.join(output_path, \"deduplicated\")\n",
    "\n",
    "pd.read_parquet(os.path.join(deduplicated_path, os.listdir(deduplicated_path)[0])).head()"
   ]
  },
  {
   "cell_type": "markdown",
   "id": "8bd1c200",
   "metadata": {},
   "source": [
    "## Printing Statistics of the Dataset"
   ]
  },
  {
   "cell_type": "code",
   "execution_count": 18,
   "id": "d175ae31",
   "metadata": {},
   "outputs": [
    {
     "name": "stdout",
     "output_type": "stream",
     "text": [
      "Number of input rows\t: 2,119,719\n",
      "Number of output rows\t: 1,684,623\n",
      "Number of removed rows\t: 435,096\n",
      "Ratio of removed rows\t: 20.53%\n"
     ]
    }
   ],
   "source": [
    "number_of_input_rows = sum(task._stage_perf[1].num_items_processed for task in removal_out)\n",
    "number_of_output_rows = sum([task._stage_perf[2].num_items_processed for task in removal_out])\n",
    "number_of_removed_rows = sum([task._metadata.get(\"num_removed\") for task in removal_out])\n",
    "\n",
    "print(f\"Number of input rows\\t: {number_of_input_rows:,}\")\n",
    "print(f\"Number of output rows\\t: {number_of_output_rows:,}\")\n",
    "print(f\"Number of removed rows\\t: {number_of_removed_rows:,}\")\n",
    "print(f\"Ratio of removed rows\\t: {(number_of_removed_rows * 100 / number_of_input_rows):.2f}%\")"
   ]
  },
  {
   "cell_type": "markdown",
   "id": "e016262f",
   "metadata": {},
   "source": [
    "## Stop the Cluster"
   ]
  },
  {
   "cell_type": "code",
   "execution_count": null,
   "id": "753c72a9",
   "metadata": {},
   "outputs": [
    {
     "ename": "",
     "evalue": "",
     "output_type": "error",
     "traceback": [
      "\u001b[1;31mThe Kernel crashed while executing code in the current cell or a previous cell. \n",
      "\u001b[1;31mPlease review the code in the cell(s) to identify a possible cause of the failure. \n",
      "\u001b[1;31mClick <a href='https://aka.ms/vscodeJupyterKernelCrash'>here</a> for more info. \n",
      "\u001b[1;31mView Jupyter <a href='command:jupyter.viewOutput'>log</a> for further details."
     ]
    }
   ],
   "source": [
    "client.stop()"
   ]
  },
  {
   "cell_type": "markdown",
   "id": "7bf3c46e",
   "metadata": {},
   "source": [
    "## Conclusion\n",
    "\n",
    "We broke down the semantic deduplication process into distinct steps - embedding generation, K-means clustering with pairwise similarity computation, duplicate identification, and final removal.\n",
    "\n",
    "We showed how to create, persist, and reuse the ID Generator across different workflow stages, enabling consistent ID assignment throughout the process.\n",
    "\n",
    "By analyzing the cosine similarity distribution across our dataset, we determined an appropriate `eps` threshold of 0.1, which resulted in removing ~20% of our data.\n",
    "\n",
    "This step-by-step approach provides users with fine-grained control over each stage of the deduplication process, making it suitable for production environments where different components may need to be optimized or scaled independently."
   ]
  }
 ],
 "metadata": {
  "kernelspec": {
   "display_name": "Python 3",
   "language": "python",
   "name": "python3"
  },
  "language_info": {
   "codemirror_mode": {
    "name": "ipython",
    "version": 3
   },
   "file_extension": ".py",
   "mimetype": "text/x-python",
   "name": "python",
   "nbconvert_exporter": "python",
   "pygments_lexer": "ipython3",
   "version": "3.12.11"
  }
 },
 "nbformat": 4,
 "nbformat_minor": 5
}
